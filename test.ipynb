{
 "cells": [
  {
   "cell_type": "code",
   "execution_count": 8,
   "id": "e9c9c62e",
   "metadata": {},
   "outputs": [
    {
     "name": "stdout",
     "output_type": "stream",
     "text": [
      "{\"title\":\"Example\",\"flashcards\":[{\"question\":\"In what year did Babu gain independence from the Federated Empire of Cordania?\",\"answer\":\"1965\"},{\"question\":\"What was the GDP per capita of Babu at the time of its independence?\",\"answer\":\"$420 USD\"},{\"question\":\"Who established the National Infrastructure Authority in Babu?\",\"answer\":\"Prime Minister Ilmar Tana\"},{\"question\":\"By what year was Babu's first modern container port completed?\",\"answer\":\"1970\"},{\"question\":\"How much did Babu's cargo throughput increase from 1968 to 1975?\",\"answer\":\"It increased from 3.5 million tons to 10.2 million tons.\"}],\"date_created\":\"2025-06-18T03:39:01.380000\",\"id\":\"6851c4556871cd9054530953\"}\n"
     ]
    }
   ],
   "source": [
    "import requests\n",
    "import json\n",
    "\n",
    "url = \"http://localhost:8000/lessons\"\n",
    "\n",
    "content = \"\"\"\n",
    "1. Founding Struggles and Early Infrastructure (1965-1975)\n",
    "Babu gained independence from the Federated Empire of Cordania in 1965, emerging as a small island state with just 2.1 million people and a GDP per capita of only $420 USD. With no significant natural resources, the country relied on a dilapidated port and colonial-era administrative buildings. Its literacy rate stood at 58%, and unemployment exceeded 14%. In response, Prime Minister Ilmar Tana established the National Infrastructure Authority in 1967, which oversaw the construction of Babu’s first modern container port by 1970 and a new international airport by 1973. These facilities helped triple the country’s cargo throughput from 3.5 million tons in 1968 to 10.2 million tons by 1975, laying the physical foundations for an export-oriented economy.\n",
    "\"\"\"\n",
    "\n",
    "payload = json.dumps({\n",
    "  \"title\": \"Example\",\n",
    "  \"content\": content,\n",
    "})\n",
    "headers = {\n",
    "  'Content-Type': 'application/json'\n",
    "}\n",
    "\n",
    "response = requests.request(\"POST\", url, headers=headers, data=payload)\n",
    "\n",
    "print(response.text)"
   ]
  },
  {
   "cell_type": "code",
   "execution_count": null,
   "id": "afc504a8",
   "metadata": {},
   "outputs": [
    {
     "name": "stdout",
     "output_type": "stream",
     "text": [
      ".\\sample_data\\history\\1.txt\n",
      ".\\sample_data\\history\\10.txt\n",
      ".\\sample_data\\history\\2.txt\n",
      ".\\sample_data\\history\\3.txt\n",
      ".\\sample_data\\history\\4.txt\n",
      ".\\sample_data\\history\\5.txt\n",
      ".\\sample_data\\history\\6.txt\n",
      ".\\sample_data\\history\\7.txt\n",
      ".\\sample_data\\history\\8.txt\n",
      ".\\sample_data\\history\\9.txt\n",
      "{\"title\":\"Example\",\"flashcards\":[{\"question\":\"In what year did Babu gain independence from the Federated Empire of Cordania?\",\"answer\":\"1965\"},{\"question\":\"What was the GDP per capita of Babu in 1965?\",\"answer\":\"$420 USD\"},{\"question\":\"In what year was the National Infrastructure Authority established?\",\"answer\":\"1967\"},{\"question\":\"What was the literacy rate of Babu in 1965?\",\"answer\":\"58%\"},{\"question\":\"By how much did Babu's cargo throughput increase from 1968 to 1975?\",\"answer\":\"Tripled (from 3.5 million tons to 10.2 million tons)\"}],\"date_created\":\"2025-06-18T02:16:50.508000\",\"id\":\"6851b1122d5df4266917903d\"}\n",
      "{\"title\":\"Example\",\"flashcards\":[{\"question\":\"What was Babu's fertility rate by 2025?\",\"answer\":\"1.35\"},{\"question\":\"How many skilled migrants were allowed to enter the country per year under the Global Talent Entry Scheme?\",\"answer\":\"85,000\"},{\"question\":\"What percentage of the population by 2035 consisted of immigrants and their children?\",\"answer\":\"27%\"},{\"question\":\"What is Babu's target for carbon neutrality?\",\"answer\":\"2045\"}],\"date_created\":\"2025-06-18T02:16:54.801000\",\"id\":\"6851b1162d5df4266917903e\"}\n",
      "{\"title\":\"Example\",\"flashcards\":[{\"question\":\"What percentage of Babu's population was Marans?\",\"answer\":\"45%\"},{\"question\":\"In what year did the government pass the Common Language and Integration Act?\",\"answer\":\"1976\"},{\"question\":\"By what percentage did primary school students become proficient in Babuan by 1985?\",\"answer\":\"87%\"},{\"question\":\"What was the maximum percentage of any single ethnic group allowed in public housing estates?\",\"answer\":\"50%\"}],\"date_created\":\"2025-06-18T02:16:59.043000\",\"id\":\"6851b11b2d5df4266917903f\"}\n",
      "{\"title\":\"Example\",\"flashcards\":[{\"question\":\"What was the approximate GDP per capita of Babu in 1986?\",\"answer\":\"$3,200 USD\"},{\"question\":\"What agency drove the 'Babu Boom' between 1986 and 1995?\",\"answer\":\"The Babu Development Board (BDB)\"},{\"question\":\"How much did foreign direct investment in Babu jump from 1985 to 1995?\",\"answer\":\"$520 million to $5.4 billion\"},{\"question\":\"In what year was the Babu Development Board launched?\",\"answer\":\"1986\"},{\"question\":\"What were some key sectors that drove growth in Babu during this period?\",\"answer\":\"Semiconductors, petrochemicals, and shipping\"}],\"date_created\":\"2025-06-18T02:17:04.285000\",\"id\":\"6851b1202d5df42669179040\"}\n",
      "{\"title\":\"Example\",\"flashcards\":[{\"question\":\"What was the name of the welfare program launched by Babu in 1997?\",\"answer\":\"National Welfare Compact (NWC)\"},{\"question\":\"How much did healthcare expenditures rise as a percentage of GDP from 1996 to 2005?\",\"answer\":\"4.5% (from 1.8% to 5.3%)\"},{\"question\":\"What was the rate of infant mortality per 1,000 births in 2005 compared to 1996?\",\"answer\":\"9.4 (dropped from 12.3)\"},{\"question\":\"How much did consumption tax increase under the NWC?\",\"answer\":\"From 4% to 9%\"}],\"date_created\":\"2025-06-18T02:17:09.251000\",\"id\":\"6851b1252d5df42669179041\"}\n",
      "{\"title\":\"Example\",\"flashcards\":[{\"question\":\"What year was the Green Future Act enacted in Babu?\",\"answer\":\"2007\"},{\"question\":\"What percentage of Babu's energy mix came from renewables by 2015?\",\"answer\":\"72%\"},{\"question\":\"What was the carbon tax introduced in Babu in 2009?\",\"answer\":\"$48 per ton\"},{\"question\":\"By what year did solar microgrids reach 98% of rural municipalities in Babu?\",\"answer\":\"2013\"},{\"question\":\"What percentage of new car sales were electric vehicles by 2014 in Babu?\",\"answer\":\"40%\"}],\"date_created\":\"2025-06-18T02:17:14.076000\",\"id\":\"6851b12a2d5df42669179042\"}\n",
      "{\"title\":\"Example\",\"flashcards\":[{\"question\":\"What program was launched in 2010 to revolutionize Babu's education system?\",\"answer\":\"The Smart Citizen Program\"},{\"question\":\"What percentage of GDP did government spending on education rise from between 2010 and 2020?\",\"answer\":\"From 3.9% to 6.1%\"},{\"question\":\"By what year was 96% of students able to access a tablet or digital learning device?\",\"answer\":\"2018\"},{\"question\":\"What was the national literacy rate in Babu by 2018?\",\"answer\":\"99.4%\"},{\"question\":\"How many patent filings were there in 2020 compared to 2010?\",\"answer\":\"Increased from 3,200 to 10,750\"}],\"date_created\":\"2025-06-18T02:17:19.356000\",\"id\":\"6851b12f2d5df42669179043\"}\n",
      "{\"title\":\"Example\",\"flashcards\":[{\"question\":\"What percentage of the city's citizens lived in subsidized flats by 2020?\",\"answer\":\"84%\"},{\"question\":\"In what year was the Urban Living Agency (ULA) founded?\",\"answer\":\"1980\"},{\"question\":\"How much did a typical three-bedroom flat cost as a percentage of median household income?\",\"answer\":\"18%\"},{\"question\":\"What act was passed in 1992, allowing for 99-year leases on subsidized flats?\",\"answer\":\"The People's Home Ownership Act\"},{\"question\":\"By what year did green design become mandatory for new developments?\",\"answer\":\"2006\"}],\"date_created\":\"2025-06-18T02:17:24.225000\",\"id\":\"6851b1342d5df42669179044\"}\n",
      "{\"title\":\"Example\",\"flashcards\":[{\"question\":\"What role did Babu play in international diplomacy after declaring permanent neutrality in 1985?\",\"answer\":\"Diplomatic bridge between East and West\"},{\"question\":\"How many UN peacekeeping missions did Babu contribute troops or medical personnel to between 1990 and 2025?\",\"answer\":\"14\"},{\"question\":\"What was established in Babu in 2004 to facilitate ceasefire agreements and international negotiations?\",\"answer\":\"Center for Neutral Mediation\"},{\"question\":\"According to the World Peace Index 2024, which country ranked as the safest globally, excluding Icelandia?\",\"answer\":\"Babu\"}],\"date_created\":\"2025-06-18T02:17:28.984000\",\"id\":\"6851b1382d5df42669179045\"}\n",
      "{\"title\":\"Example\",\"flashcards\":[{\"question\":\"In what year was the Ethical Intelligence Act enacted?\",\"answer\":\"2021\"},{\"question\":\"What percentage of public services had integrated AI by 2025?\",\"answer\":\"64%\"},{\"question\":\"Who hosted the World Forum on Algorithmic Equity in 2023?\",\"answer\":\"Babu\"},{\"question\":\"How many countries attended the World Forum on Algorithmic Equity in 2023?\",\"answer\":\"94\"}],\"date_created\":\"2025-06-18T02:17:33.156000\",\"id\":\"6851b13d2d5df42669179046\"}\n"
     ]
    }
   ],
   "source": [
    "# Populate initial database\n",
    "\n",
    "url = \"http://localhost:8000/lessons\"\n",
    "\n",
    "import os\n",
    "texts = []\n",
    "for filename in os.listdir(\".\\\\sample_data\\\\history\"):\n",
    "    filepath = os.path.join(\".\\\\sample_data\\\\history\", filename)\n",
    "    print(filepath)\n",
    "    if os.path.isfile(filepath):\n",
    "        try:\n",
    "            with open(filepath, 'r', encoding='utf-8') as f:\n",
    "                contents = f.read()\n",
    "                texts.append(contents)\n",
    "        except UnicodeDecodeError:\n",
    "            print(f\"Warning: Could not read {filename} with UTF-8 encoding, trying with latin-1\")\n",
    "            with open(filepath, 'r', encoding='latin-1') as f:\n",
    "                contents = f.read()\n",
    "                texts.append(contents)\n",
    "\n",
    "texts = texts[:3]\n",
    "for content in texts:\n",
    "    payload = json.dumps({\n",
    "    \"title\": \"Example\",\n",
    "    \"content\": content,\n",
    "    })\n",
    "    headers = {\n",
    "    'Content-Type': 'application/json'\n",
    "    }\n",
    "\n",
    "    response = requests.request(\"POST\", url, headers=headers, data=payload)\n",
    "\n",
    "    print(response.text)"
   ]
  },
  {
   "cell_type": "code",
   "execution_count": 25,
   "id": "583311f8",
   "metadata": {},
   "outputs": [
    {
     "name": "stdout",
     "output_type": "stream",
     "text": [
      "[{'title': 'Example', 'flashcards': [{'question': 'In what year did Babu gain independence from the Federated Empire of Cordania?', 'answer': '1965'}, {'question': 'What was the GDP per capita of Babu in 1965?', 'answer': '$420 USD'}, {'question': 'What percentage of the population of Babu were unemployed in 1965?', 'answer': '14%'}, {'question': 'In what year was the National Infrastructure Authority established by Prime Minister Ilmar Tana?', 'answer': '1967'}, {'question': 'What was the volume of cargo throughput for Babu in 1975, compared to 1968?', 'answer': 'Tripled from 3.5 million tons to 10.2 million tons'}], 'date_created': '2025-06-18T02:05:04.481000', 'id': '6851ae50471afb9b6203a6f0'}, {'title': 'Example', 'flashcards': [{'question': 'In what year did Babu gain independence from the Federated Empire of Cordania?', 'answer': '1965'}, {'question': 'What was the GDP per capita of Babu in 1965?', 'answer': '$420 USD'}, {'question': 'What percentage of the population of Babu was literate in 1965?', 'answer': '58%'}, {'question': 'In what year did Prime Minister Ilmar Tana establish the National Infrastructure Authority?', 'answer': '1967'}, {'question': \"How many million tons was Babu's cargo throughput in 1975, after the construction of new infrastructure?\", 'answer': '10.2'}], 'date_created': '2025-06-18T02:11:54.692000', 'id': '6851afea0fb6966819322dee'}, {'title': 'Example', 'flashcards': [{'question': 'What was the fertility rate in Babu by 2025?', 'answer': '1.35'}, {'question': 'How many skilled migrants were allowed to enter Babu per year through the Global Talent Entry Scheme?', 'answer': '85,000'}, {'question': 'What percentage of the population in Babu was accounted for by immigrants and their children by 2035?', 'answer': '27%'}, {'question': 'How much renewable energy did Babu aim to have by 2045?', 'answer': '98%'}], 'date_created': '2025-06-18T02:11:59.203000', 'id': '6851afef0fb6966819322def'}, {'title': 'Example', 'flashcards': [{'question': \"What percentage of Babu's population was composed of the Marans ethnic group?\", 'answer': '45%'}, {'question': 'What type of education was mandated by the Common Language and Integration Act (1976)?', 'answer': 'Bilingual education: one’s mother tongue alongside Babuan'}, {'question': 'By what year did over 87% of primary school students become proficient in Babuan?', 'answer': '1985'}, {'question': 'What was the ethnic integration quota introduced in public housing estates in 1979?', 'answer': 'No more than 50% of any single ethnic group'}, {'question': \"According to a 1984 national survey, what percentage of respondents reported 'high trust' in neighbors of other backgrounds?\", 'answer': '72%'}], 'date_created': '2025-06-18T02:12:04.726000', 'id': '6851aff40fb6966819322df0'}, {'title': 'Example', 'flashcards': [{'question': 'What was the approximate GDP per capita of Babu between 1986 and 1995?', 'answer': '$3,200 USD to $12,400 USD'}, {'question': 'In what year was the Babu Development Board (BDB) launched?', 'answer': '1986'}, {'question': 'What sectors were among the key drivers of foreign direct investment in Babu during this period?', 'answer': 'semiconductors, petrochemicals, and shipping'}, {'question': \"By what year had Babu become the world's fourth-largest container port?\", 'answer': '1993'}], 'date_created': '2025-06-18T02:12:09.623000', 'id': '6851aff90fb6966819322df1'}, {'title': 'Example', 'flashcards': [{'question': 'What inspired the founding of the National Welfare Compact in Sri Lanka?', 'answer': 'Nordic social democracy'}, {'question': 'How much was the consumption tax increased to fund the NWC?', 'answer': 'From 4% to 9%'}, {'question': 'What percentage of GDP did healthcare expenditures rise to by 2005?', 'answer': '5.3%'}, {'question': 'By what percentage did infant mortality drop from 1996 to 2005?', 'answer': '71% (12.3 -> 3.9 per 1,000 births)'}], 'date_created': '2025-06-18T02:12:14.314000', 'id': '6851affe0fb6966819322df2'}, {'title': 'Example', 'flashcards': [{'question': 'In what year did Babu enact the Green Future Act?', 'answer': '2007'}, {'question': 'What was the target for Babu to become carbon neutral by?', 'answer': '2045'}, {'question': \"What percentage of Babu's energy mix came from renewables by 2015?\", 'answer': '72%'}, {'question': 'By what year did solar microgrids cover 98% of rural municipalities in Babu?', 'answer': '2013'}, {'question': 'What percentage of new car sales in Babu were electric vehicles by 2014?', 'answer': '40%'}], 'date_created': '2025-06-18T02:12:19.168000', 'id': '6851b0030fb6966819322df3'}, {'title': 'Example', 'flashcards': [{'question': 'What year did the Smart Citizen Program launch?', 'answer': '2010'}, {'question': 'By what percentage had government spending on education increased between 2010 and 2020?', 'answer': '2.2%'}, {'question': 'In what year did 96% of students have access to a tablet or digital learning device?', 'answer': '2018'}, {'question': 'What was the national literacy rate in Babu by 2018?', 'answer': '99.4%'}, {'question': 'In what year did patent filings reach 10,750 in Babu?', 'answer': '2020'}], 'date_created': '2025-06-18T02:12:24.020000', 'id': '6851b0080fb6966819322df4'}, {'title': 'Example', 'flashcards': [{'question': \"In which year was the People's Home Ownership Act passed?\", 'answer': '1992'}, {'question': 'What percentage of flats in the public housing system had rooftop gardens, solar panels, and greywater recycling by 2019?', 'answer': '90%'}, {'question': 'In what year was the Urban Living Agency (ULA) founded?', 'answer': '1980'}, {'question': 'What percentage of citizens in the country lived in subsidized flats by 2020?', 'answer': '84%'}], 'date_created': '2025-06-18T02:12:28.373000', 'id': '6851b00c0fb6966819322df5'}, {'title': 'Example', 'flashcards': [{'question': 'When did Babu declare permanent neutrality in its Constitution?', 'answer': '1985'}, {'question': \"What is the primary role of Babu's Center for Neutral Mediation?\", 'answer': 'To broker ceasefire agreements and host international negotiations'}, {'question': \"In what year was Babu's Center for Neutral Mediation established?\", 'answer': '2004'}, {'question': \"How many international negotiations did Babu's Center for Neutral Mediation host by 2023?\", 'answer': '72'}, {'question': 'What is the rank of Babu in the World Peace Index 2024, globally?', 'answer': '2nd safest country'}], 'date_created': '2025-06-18T02:12:33.267000', 'id': '6851b0110fb6966819322df6'}, {'title': 'Example', 'flashcards': [{'question': 'In what year was the Ethical Intelligence Act enacted by Babu?', 'answer': '2021'}, {'question': 'What percentage of public services had integrated AI by 2025?', 'answer': 'Over 64%'}, {'question': 'Which organization hosted the World Forum on Algorithmic Equity in 2023?', 'answer': 'Babu'}, {'question': 'What model for algorithm regulation was developed by Babu and recognized internationally?', 'answer': '\"Algorithm Bill of Rights\"'}], 'date_created': '2025-06-18T02:12:37.548000', 'id': '6851b0150fb6966819322df7'}, {'title': 'Example', 'flashcards': [{'question': 'In what year did Babu gain independence from the Federated Empire of Cordania?', 'answer': '1965'}, {'question': 'What was the GDP per capita of Babu in 1965?', 'answer': '$420 USD'}, {'question': 'In what year was the National Infrastructure Authority established?', 'answer': '1967'}, {'question': 'What was the literacy rate of Babu in 1965?', 'answer': '58%'}, {'question': \"By how much did Babu's cargo throughput increase from 1968 to 1975?\", 'answer': 'Tripled (from 3.5 million tons to 10.2 million tons)'}], 'date_created': '2025-06-18T02:16:50.508000', 'id': '6851b1122d5df4266917903d'}, {'title': 'Example', 'flashcards': [{'question': \"What was Babu's fertility rate by 2025?\", 'answer': '1.35'}, {'question': 'How many skilled migrants were allowed to enter the country per year under the Global Talent Entry Scheme?', 'answer': '85,000'}, {'question': 'What percentage of the population by 2035 consisted of immigrants and their children?', 'answer': '27%'}, {'question': \"What is Babu's target for carbon neutrality?\", 'answer': '2045'}], 'date_created': '2025-06-18T02:16:54.801000', 'id': '6851b1162d5df4266917903e'}, {'title': 'Example', 'flashcards': [{'question': \"What percentage of Babu's population was Marans?\", 'answer': '45%'}, {'question': 'In what year did the government pass the Common Language and Integration Act?', 'answer': '1976'}, {'question': 'By what percentage did primary school students become proficient in Babuan by 1985?', 'answer': '87%'}, {'question': 'What was the maximum percentage of any single ethnic group allowed in public housing estates?', 'answer': '50%'}], 'date_created': '2025-06-18T02:16:59.043000', 'id': '6851b11b2d5df4266917903f'}, {'title': 'Example', 'flashcards': [{'question': 'What was the approximate GDP per capita of Babu in 1986?', 'answer': '$3,200 USD'}, {'question': \"What agency drove the 'Babu Boom' between 1986 and 1995?\", 'answer': 'The Babu Development Board (BDB)'}, {'question': 'How much did foreign direct investment in Babu jump from 1985 to 1995?', 'answer': '$520 million to $5.4 billion'}, {'question': 'In what year was the Babu Development Board launched?', 'answer': '1986'}, {'question': 'What were some key sectors that drove growth in Babu during this period?', 'answer': 'Semiconductors, petrochemicals, and shipping'}], 'date_created': '2025-06-18T02:17:04.285000', 'id': '6851b1202d5df42669179040'}, {'title': 'Example', 'flashcards': [{'question': 'What was the name of the welfare program launched by Babu in 1997?', 'answer': 'National Welfare Compact (NWC)'}, {'question': 'How much did healthcare expenditures rise as a percentage of GDP from 1996 to 2005?', 'answer': '4.5% (from 1.8% to 5.3%)'}, {'question': 'What was the rate of infant mortality per 1,000 births in 2005 compared to 1996?', 'answer': '9.4 (dropped from 12.3)'}, {'question': 'How much did consumption tax increase under the NWC?', 'answer': 'From 4% to 9%'}], 'date_created': '2025-06-18T02:17:09.251000', 'id': '6851b1252d5df42669179041'}, {'title': 'Example', 'flashcards': [{'question': 'What year was the Green Future Act enacted in Babu?', 'answer': '2007'}, {'question': \"What percentage of Babu's energy mix came from renewables by 2015?\", 'answer': '72%'}, {'question': 'What was the carbon tax introduced in Babu in 2009?', 'answer': '$48 per ton'}, {'question': 'By what year did solar microgrids reach 98% of rural municipalities in Babu?', 'answer': '2013'}, {'question': 'What percentage of new car sales were electric vehicles by 2014 in Babu?', 'answer': '40%'}], 'date_created': '2025-06-18T02:17:14.076000', 'id': '6851b12a2d5df42669179042'}, {'title': 'Example', 'flashcards': [{'question': \"What program was launched in 2010 to revolutionize Babu's education system?\", 'answer': 'The Smart Citizen Program'}, {'question': 'What percentage of GDP did government spending on education rise from between 2010 and 2020?', 'answer': 'From 3.9% to 6.1%'}, {'question': 'By what year was 96% of students able to access a tablet or digital learning device?', 'answer': '2018'}, {'question': 'What was the national literacy rate in Babu by 2018?', 'answer': '99.4%'}, {'question': 'How many patent filings were there in 2020 compared to 2010?', 'answer': 'Increased from 3,200 to 10,750'}], 'date_created': '2025-06-18T02:17:19.356000', 'id': '6851b12f2d5df42669179043'}, {'title': 'Example', 'flashcards': [{'question': \"What percentage of the city's citizens lived in subsidized flats by 2020?\", 'answer': '84%'}, {'question': 'In what year was the Urban Living Agency (ULA) founded?', 'answer': '1980'}, {'question': 'How much did a typical three-bedroom flat cost as a percentage of median household income?', 'answer': '18%'}, {'question': 'What act was passed in 1992, allowing for 99-year leases on subsidized flats?', 'answer': \"The People's Home Ownership Act\"}, {'question': 'By what year did green design become mandatory for new developments?', 'answer': '2006'}], 'date_created': '2025-06-18T02:17:24.225000', 'id': '6851b1342d5df42669179044'}, {'title': 'Example', 'flashcards': [{'question': 'What role did Babu play in international diplomacy after declaring permanent neutrality in 1985?', 'answer': 'Diplomatic bridge between East and West'}, {'question': 'How many UN peacekeeping missions did Babu contribute troops or medical personnel to between 1990 and 2025?', 'answer': '14'}, {'question': 'What was established in Babu in 2004 to facilitate ceasefire agreements and international negotiations?', 'answer': 'Center for Neutral Mediation'}, {'question': 'According to the World Peace Index 2024, which country ranked as the safest globally, excluding Icelandia?', 'answer': 'Babu'}], 'date_created': '2025-06-18T02:17:28.984000', 'id': '6851b1382d5df42669179045'}, {'title': 'Example', 'flashcards': [{'question': 'In what year was the Ethical Intelligence Act enacted?', 'answer': '2021'}, {'question': 'What percentage of public services had integrated AI by 2025?', 'answer': '64%'}, {'question': 'Who hosted the World Forum on Algorithmic Equity in 2023?', 'answer': 'Babu'}, {'question': 'How many countries attended the World Forum on Algorithmic Equity in 2023?', 'answer': '94'}], 'date_created': '2025-06-18T02:17:33.156000', 'id': '6851b13d2d5df42669179046'}]\n"
     ]
    }
   ],
   "source": [
    "url = \"http://localhost:8000/lessons\"\n",
    "\n",
    "response = requests.request(\"GET\", url, headers=headers, data=payload)\n",
    "\n",
    "from pprint import pprint\n",
    "print(response.json())\n",
    "\n"
   ]
  },
  {
   "cell_type": "code",
   "execution_count": null,
   "id": "685915f9",
   "metadata": {},
   "outputs": [
    {
     "name": "stdout",
     "output_type": "stream",
     "text": [
      "We are going to get lesson with id: 6851ae50471afb9b6203a6f0\n",
      "{\"title\":\"Example\",\"flashcards\":[{\"question\":\"In what year did Babu gain independence from the Federated Empire of Cordania?\",\"answer\":\"1965\"},{\"question\":\"What was the GDP per capita of Babu in 1965?\",\"answer\":\"$420 USD\"},{\"question\":\"What percentage of the population of Babu were unemployed in 1965?\",\"answer\":\"14%\"},{\"question\":\"In what year was the National Infrastructure Authority established by Prime Minister Ilmar Tana?\",\"answer\":\"1967\"},{\"question\":\"What was the volume of cargo throughput for Babu in 1975, compared to 1968?\",\"answer\":\"Tripled from 3.5 million tons to 10.2 million tons\"}],\"date_created\":\"2025-06-18T02:05:04.481000\",\"id\":\"6851ae50471afb9b6203a6f0\"}\n"
     ]
    }
   ],
   "source": [
    "random_lesson_id = response.json()[0]['id']\n",
    "print(f\"We are going to get lesson with id: {random_lesson_id}\")\n",
    "\n",
    "# payload = json.dumps({\n",
    "#   \"lesson_id\": \"random_lesson_id\",\n",
    "# })\n",
    "# headers = {\n",
    "#   'Content-Type': 'application/json'\n",
    "# }\n",
    "\n",
    "url = f\"http://localhost:8000/lessons/{random_lesson_id}\"\n",
    "\n",
    "response3 = requests.request(\"GET\", url)\n",
    "\n",
    "print(response3.text)"
   ]
  }
 ],
 "metadata": {
  "kernelspec": {
   "display_name": "rag",
   "language": "python",
   "name": "python3"
  },
  "language_info": {
   "codemirror_mode": {
    "name": "ipython",
    "version": 3
   },
   "file_extension": ".py",
   "mimetype": "text/x-python",
   "name": "python",
   "nbconvert_exporter": "python",
   "pygments_lexer": "ipython3",
   "version": "3.12.11"
  }
 },
 "nbformat": 4,
 "nbformat_minor": 5
}
